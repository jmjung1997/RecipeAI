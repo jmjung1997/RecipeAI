{
 "cells": [
  {
   "cell_type": "markdown",
   "metadata": {},
   "source": [
    "### model check_point 불러오기"
   ]
  },
  {
   "cell_type": "code",
   "execution_count": 1,
   "metadata": {
    "id": "6EGlFGE8uyBS"
   },
   "outputs": [],
   "source": [
    "model_checkpoint = \"nvidia/mit-b0\"  # pre-trained model from which to fine-tune\n"
   ]
  },
  {
   "cell_type": "markdown",
   "metadata": {
    "id": "d32sBZeq_HQ2"
   },
   "source": [
    "Before we start, let's install the `datasets`, `transformers`, and `evaluate` libraries. We also install Git-LFS to upload the model checkpoints to Hub.\n",
    "\n"
   ]
  },
  {
   "cell_type": "code",
   "execution_count": 2,
   "metadata": {
    "id": "vAvgC48er3Ih"
   },
   "outputs": [],
   "source": [
    "# !pip -q install datasets transformers evaluate\n",
    "\n",
    "# !git lfs install\n",
    "# !git config --global credential.helper store"
   ]
  },
  {
   "cell_type": "code",
   "execution_count": 3,
   "metadata": {},
   "outputs": [
    {
     "name": "stdout",
     "output_type": "stream",
     "text": [
      "cuda:0\n"
     ]
    }
   ],
   "source": [
    "import torch\n",
    "import torch.nn as nn\n",
    "import torch.nn.functional as F\n",
    "import torch.optim as optim\n",
    "from torch.utils.data import Dataset, DataLoader\n",
    "from torchvision import transforms\n",
    "device = \"cuda:0\" if torch.cuda.is_available() else \"cpu\"\n",
    "device = torch.device(device)\n",
    "print(device)"
   ]
  },
  {
   "cell_type": "code",
   "execution_count": 4,
   "metadata": {
    "id": "PlSGaFpFuQSW"
   },
   "outputs": [
    {
     "data": {
      "application/vnd.jupyter.widget-view+json": {
       "model_id": "d3c74824868643c58fabe09c58b9406b",
       "version_major": 2,
       "version_minor": 0
      },
      "text/plain": [
       "VBox(children=(HTML(value='<center> <img\\nsrc=https://huggingface.co/front/assets/huggingface_logo-noborder.sv…"
      ]
     },
     "metadata": {},
     "output_type": "display_data"
    }
   ],
   "source": [
    "from huggingface_hub import notebook_login\n",
    "\n",
    "notebook_login()"
   ]
  },
  {
   "cell_type": "markdown",
   "metadata": {
    "id": "mcE455KaG687"
   },
   "source": [
    "### Loading the dataset"
   ]
  },
  {
   "cell_type": "code",
   "execution_count": 5,
   "metadata": {},
   "outputs": [],
   "source": [
    "# from PIL import Image, ImageDraw\n",
    "# import os\n",
    "# import json\n",
    "\n",
    "# # 데이터셋 위치\n",
    "# dataset_path = \"C:\\\\jupyter\\\\Externel_activity\\\\Selfdrive_segmentation\\\\data\\\\2DSS\"\n",
    "# # 라벨별 색 지정\n",
    "\n",
    "# class_colors = {\n",
    "#     'road': 1,\n",
    "#     'sidewalk': 2,\n",
    "#     'road roughness': 3,\n",
    "#     'road boundaries': 4,\n",
    "#     'crosswalks': 5,\n",
    "#     'lane': 6,\n",
    "#     'road color guide': 7,\n",
    "#     'road marking': 8,\n",
    "#     'parking': 9,\n",
    "#     'traffic sign': 10,\n",
    "#     'traffic light': 11,\n",
    "#     'pole/structural object': 12,\n",
    "#     'building': 13,\n",
    "#     'tunnel': 14,\n",
    "#     'bridge': 15,\n",
    "#     'pedestrian': 16,\n",
    "#     'vehicle': 17,\n",
    "#     'bicycle': 18,\n",
    "#     'motorcycle': 19,\n",
    "#     'personal mobility': 20,\n",
    "#     'dynamic': 21,\n",
    "#     'vegetation': 22,\n",
    "#     'sky': 23,\n",
    "#     'static': 24\n",
    "# }\n",
    "\n",
    "# def create_label_image(data, image_size):\n",
    "#     \"\"\"다각형 데이터를 사용하여 라벨 이미지를 생성하는 함수\"\"\"\n",
    "#     image = Image.new(\"L\", tuple(image_size), 255)  # 2차원 이미지 (L 모드)로 생성\n",
    "#     draw = ImageDraw.Draw(image)\n",
    "\n",
    "#     # instance id 기준으로 Annotation 리스트 정렬 (낮은 값이 우선)\n",
    "#     annotations = sorted(data['Annotation'], key=lambda x: x['instance_id'])\n",
    "\n",
    "#     for annotation in annotations:\n",
    "#         class_name = annotation['class_name']\n",
    "#         color = class_colors.get(class_name, 0)  # 해당 클래스의 회색조 값 가져오기, 기본은 0 (검정색)\n",
    "#         points = annotation['data'][0]  # 다각형의 점 좌표\n",
    "#         polygon = [(points[i], points[i + 1]) for i in range(0, len(points), 2)]\n",
    "#         draw.polygon(polygon, outline=None, fill=color)  # 외곽선 없이 채우기 색상만 지정\n",
    "\n",
    "#     return image\n",
    "\n",
    "# def process_case(case_path):\n",
    "#     \"\"\"각 케이스의 이미지와 라벨을 처리하는 함수\"\"\"\n",
    "#     label_path = os.path.join(case_path, 'labels')\n",
    "#     save_path = os.path.join(case_path, 'gray_label_images')\n",
    "\n",
    "#     if not os.path.isdir(save_path):\n",
    "#         os.makedirs(save_path)\n",
    "\n",
    "#     print(label_path)\n",
    "#     label_files = os.listdir(label_path)\n",
    "\n",
    "#     for json_name in label_files:\n",
    "#         json_file_path = os.path.join(label_path, json_name)\n",
    "#         with open(json_file_path, 'r') as file:\n",
    "#             data = json.load(file)\n",
    "#             image_size = data['image_size']\n",
    "#             label_image = create_label_image(data, image_size)\n",
    "#             label_image.save(os.path.join(save_path, json_name.replace('.json', '.png')))\n",
    "\n",
    "# def main(dataset_path):\n",
    "#     \"\"\"데이터셋 경로에서 모든 케이스를 처리하는 메인 함수\"\"\"\n",
    "#     for case in os.listdir(dataset_path):\n",
    "#         case_path = os.path.join(dataset_path, case)\n",
    "#         if os.path.isdir(case_path):  # validation / test / train\n",
    "#             process_case(case_path)\n",
    "\n",
    "# if __name__ == \"__main__\":\n",
    "#     main(dataset_path) \n"
   ]
  },
  {
   "cell_type": "code",
   "execution_count": 6,
   "metadata": {},
   "outputs": [
    {
     "name": "stdout",
     "output_type": "stream",
     "text": [
      "DatasetDict({\n",
      "    train: Dataset({\n",
      "        features: ['pixel_values', 'label'],\n",
      "        num_rows: 180\n",
      "    })\n",
      "})\n",
      "First item: {'pixel_values': <PIL.JpegImagePlugin.JpegImageFile image mode=RGB size=1920x1200 at 0x11ED86962C8>, 'label': <PIL.PngImagePlugin.PngImageFile image mode=L size=1920x1200 at 0x11ED8696808>}\n",
      "Image mode and size: RGB, (1920, 1200)\n",
      "Label mode and size: L, (1920, 1200)\n"
     ]
    }
   ],
   "source": [
    "import os\n",
    "from PIL import Image\n",
    "from datasets import Dataset, DatasetDict\n",
    "\n",
    "def create_segmentation_dataset(train_dir, label_dir):\n",
    "    image_files = sorted([f for f in os.listdir(train_dir) if f.endswith(('.png', '.jpg', '.jpeg'))])\n",
    "    label_files = sorted([f for f in os.listdir(label_dir) if f.endswith(('.png', '.jpg', '.jpeg'))])\n",
    "\n",
    "    pixel_values = []\n",
    "    labels = []\n",
    "\n",
    "    for img_file, label_file in zip(image_files, label_files):\n",
    "        # 이미지 로드\n",
    "        img_path = os.path.join(train_dir, img_file)\n",
    "        img = Image.open(img_path)\n",
    "        pixel_values.append(img)\n",
    "\n",
    "        # 레이블 이미지 로드\n",
    "        label_path = os.path.join(label_dir, label_file)\n",
    "        label = Image.open(label_path).convert('L')  # 그레이스케일로 변환\n",
    "        labels.append(label)\n",
    "\n",
    "    dataset = Dataset.from_dict({\n",
    "        \"pixel_values\": pixel_values,\n",
    "        \"label\": labels\n",
    "    })\n",
    "\n",
    "    return DatasetDict({\"train\": dataset})\n",
    "\n",
    "# 데이터셋 생성\n",
    "train_dir = \"C:\\\\jupyter\\\\Externel_activity\\\\Selfdrive_segmentation\\\\data\\\\small\\\\training\\\\images\"\n",
    "label_dir = \"C:\\\\jupyter\\\\Externel_activity\\\\Selfdrive_segmentation\\\\data\\\\small\\\\training\\\\label_images\"\n",
    "dataset_dict = create_segmentation_dataset(train_dir, label_dir)\n",
    "\n",
    "print(dataset_dict)\n",
    "\n",
    "# 첫 번째 항목 출력\n",
    "first_item = dataset_dict['train'][0]\n",
    "print(f\"First item: {first_item}\")\n",
    "print(f\"Image mode and size: {first_item['pixel_values'].mode}, {first_item['pixel_values'].size}\")\n",
    "print(f\"Label mode and size: {first_item['label'].mode}, {first_item['label'].size}\")"
   ]
  },
  {
   "cell_type": "markdown",
   "metadata": {},
   "source": [
    "### 데이터 세트 만들기"
   ]
  },
  {
   "cell_type": "markdown",
   "metadata": {},
   "source": [
    "학습 데이터 만들기"
   ]
  },
  {
   "cell_type": "code",
   "execution_count": 7,
   "metadata": {},
   "outputs": [],
   "source": [
    "# # 자신의 폴더 경로에 맞게 재지정해주세요.\n",
    "# import os\n",
    "# root_path = 'C:\\\\jupyter\\\\Externel_activity\\\\Selfdrive_segmentation\\\\data\\\\2DSS\\\\'\n",
    "\n",
    "# data_dir = root_path\n",
    "\n",
    "# # data_dir의 경로(문자열)와 train(문자열)을 결합해서 train_dir(train 폴더의 경로)에 저장합니다.\n",
    "# train_dir = os.path.join(data_dir, \"training\\\\images\")\n",
    "\n",
    "# # data_dir의 경로(문자열)와 val(문자열)을 결합해서 val_dir(val 폴더의 경로)에 저장합니다.\n",
    "# val_dir = os.path.join(data_dir, \"validation\\\\images\")\n",
    "\n",
    "# # train_dir 경로에 있는 모든 파일을 리스트의 형태로 불러와서 train_fns에 저장합니다.\n",
    "# train_fns = os.listdir(train_dir)\n",
    "\n",
    "# # val_dir 경로에 있는 모든 파일을 리스트의 형태로 불러와서 val_fns에 저장합니다.\n",
    "# val_fns = os.listdir(val_dir)\n",
    "\n",
    "# print(len(train_fns), len(val_fns))"
   ]
  },
  {
   "cell_type": "markdown",
   "metadata": {},
   "source": [
    "### 데이터 셋 정의하기"
   ]
  },
  {
   "cell_type": "code",
   "execution_count": 8,
   "metadata": {},
   "outputs": [
    {
     "data": {
      "text/plain": [
       "DatasetDict({\n",
       "    train: Dataset({\n",
       "        features: ['pixel_values', 'label'],\n",
       "        num_rows: 180\n",
       "    })\n",
       "})"
      ]
     },
     "execution_count": 8,
     "metadata": {},
     "output_type": "execute_result"
    }
   ],
   "source": [
    "dataset_dict"
   ]
  },
  {
   "cell_type": "markdown",
   "metadata": {
    "id": "eq8mwsZU2j6t"
   },
   "source": [
    "Let us also load the Mean IoU metric, which we'll use to evaluate our model both during and after training.\n",
    "\n",
    "IoU (short for Intersection over Union) tells us the amount of overlap between two sets. In our case, these sets will be the ground-truth segmentation map and the predicted segmentation map. To learn more, you can check out [this article](https://learnopencv.com/intersection-over-union-iou-in-object-detection-and-segmentation/)."
   ]
  },
  {
   "cell_type": "code",
   "execution_count": 9,
   "metadata": {
    "colab": {
     "base_uri": "https://localhost:8080/",
     "height": 49,
     "referenced_widgets": [
      "4b1915eae45c4710b6a3f8495093956d",
      "b42d735eeb0043e7b318004de525b55b",
      "d1148b579b6e41af99f2463a799d6c90",
      "501ff9d5db294d928f6367741bdd8f37",
      "a494ba6485a14473abcff9a343e1038e",
      "6fda21b649114145af09deb02b2d1e95",
      "dca0b5e19b504879b6e821f43ccbed00",
      "e9bf0dfb0a574cceb00953779da8d5f3",
      "8de21d3ac33f47a39fbefa6395d703df",
      "2da9282150f94994ad230dd70d9ddbbb",
      "faa9ead661124af59981d5b0cb5d38b9"
     ]
    },
    "id": "8UGse36eLeeb",
    "outputId": "682ed0ad-b48b-4988-b8e2-aa25d216ae76"
   },
   "outputs": [],
   "source": [
    "import evaluate\n",
    "\n",
    "metric = evaluate.load(\"mean_iou\")"
   ]
  },
  {
   "cell_type": "markdown",
   "metadata": {
    "id": "r8mTmFdlHOmN"
   },
   "source": [
    "The `ds` object itself is a `DatasetDict`, which contains one key per split (in this case, only \"train\" for a training split)."
   ]
  },
  {
   "cell_type": "markdown",
   "metadata": {
    "id": "Yt_phZQsxz5M"
   },
   "source": [
    "Here, the `features` tell us what each example is consisted of:\n",
    "\n",
    "* `pixel_values`: the actual image\n",
    "* `label`: segmentation mask\n",
    "\n"
   ]
  },
  {
   "cell_type": "markdown",
   "metadata": {
    "id": "nfPPNjthI3u2"
   },
   "source": [
    "To access an actual element, you need to select a split first, then give an index:"
   ]
  },
  {
   "cell_type": "code",
   "execution_count": 10,
   "metadata": {},
   "outputs": [
    {
     "data": {
      "text/plain": [
       "DatasetDict({\n",
       "    train: Dataset({\n",
       "        features: ['pixel_values', 'label'],\n",
       "        num_rows: 180\n",
       "    })\n",
       "})"
      ]
     },
     "execution_count": 10,
     "metadata": {},
     "output_type": "execute_result"
    }
   ],
   "source": [
    "dataset_dict"
   ]
  },
  {
   "cell_type": "code",
   "execution_count": 11,
   "metadata": {},
   "outputs": [
    {
     "data": {
      "image/png": "[encoded data removed]",
      "text/plain": [
       "<PIL.Image.Image image mode=RGB size=200x200>"
      ]
     },
     "execution_count": 11,
     "metadata": {},
     "output_type": "execute_result"
    }
   ],
   "source": [
    "example2=dataset_dict['train'][0]\n",
    "example2[\"pixel_values\"].resize((200, 200))"
   ]
  },
  {
   "cell_type": "code",
   "execution_count": 12,
   "metadata": {
    "colab": {
     "base_uri": "https://localhost:8080/",
     "height": 217
    },
    "id": "-p7R9KP0yUOa",
    "outputId": "c0487523-1ffe-4cb6-bfe7-dec0033a5d67"
   },
   "outputs": [
    {
     "data": {
      "image/png": "[encoded data removed]",
      "text/plain": [
       "<PIL.PngImagePlugin.PngImageFile image mode=L size=1920x1200>"
      ]
     },
     "execution_count": 12,
     "metadata": {},
     "output_type": "execute_result"
    }
   ],
   "source": [
    "example2[\"label\"]"
   ]
  },
  {
   "cell_type": "markdown",
   "metadata": {
    "id": "vp-fIQzvyTHL"
   },
   "source": [
    "Each of the pixels above can be associated to a particular category. Let's load all the categories that are associated with the dataset. Let's also create an `id2label` dictionary to decode them back to strings and see what they are. The inverse `label2id` will be useful too, when we load the model later."
   ]
  },
  {
   "cell_type": "code",
   "execution_count": 13,
   "metadata": {},
   "outputs": [],
   "source": [
    "import json\n",
    "\n",
    "# 파일 경로 설정\n",
    "file_path = \"C:\\\\jupyter\\\\Externel_activity\\\\Selfdrive_segmentation\\\\data\\\\2DSS\\\\training\\\\labels\\\\E_DCG_230829_141_FC_008.json\"\n",
    "\n",
    "# JSON 파일 읽기\n",
    "with open(file_path, 'r') as file:\n",
    "    data = json.load(file)"
   ]
  },
  {
   "cell_type": "code",
   "execution_count": 14,
   "metadata": {},
   "outputs": [],
   "source": [
    "class_names = set()\n",
    "for annotation in data['Annotation']:\n",
    "    class_names.add(annotation['class_name'])\n",
    "\n",
    "# 클래스 이름에 ID 할당\n",
    "id2label = {i: name for i, name in enumerate(sorted(class_names))}\n",
    "# 클래스 이름에 ID 할당\n",
    "label2id = {name: i for i, name in enumerate(sorted(class_names))}\n",
    "\n",
    "# # 'unlabeled' 클래스를 0으로 추가\n",
    "label2id = {'unlabeled': 0, **{k: v+1 for k, v in label2id.items()}}\n",
    "id2label = {0: 'unlabeled', **{k+1: v for k, v in id2label.items()}}\n",
    "\n"
   ]
  },
  {
   "cell_type": "code",
   "execution_count": 15,
   "metadata": {},
   "outputs": [
    {
     "data": {
      "text/plain": [
       "{'unlabeled': 0,\n",
       " 'building': 1,\n",
       " 'crosswalks': 2,\n",
       " 'dynamic': 3,\n",
       " 'lane': 4,\n",
       " 'pedestrian': 5,\n",
       " 'pole/structural object': 6,\n",
       " 'road': 7,\n",
       " 'road boundaries': 8,\n",
       " 'road marking': 9,\n",
       " 'sidewalk': 10,\n",
       " 'sky': 11,\n",
       " 'static': 12,\n",
       " 'traffic light': 13,\n",
       " 'traffic sign': 14,\n",
       " 'vehicle': 15}"
      ]
     },
     "execution_count": 15,
     "metadata": {},
     "output_type": "execute_result"
    }
   ],
   "source": [
    "label2id"
   ]
  },
  {
   "cell_type": "code",
   "execution_count": 16,
   "metadata": {},
   "outputs": [
    {
     "data": {
      "text/plain": [
       "{0: 'unlabeled',\n",
       " 1: 'building',\n",
       " 2: 'crosswalks',\n",
       " 3: 'dynamic',\n",
       " 4: 'lane',\n",
       " 5: 'pedestrian',\n",
       " 6: 'pole/structural object',\n",
       " 7: 'road',\n",
       " 8: 'road boundaries',\n",
       " 9: 'road marking',\n",
       " 10: 'sidewalk',\n",
       " 11: 'sky',\n",
       " 12: 'static',\n",
       " 13: 'traffic light',\n",
       " 14: 'traffic sign',\n",
       " 15: 'vehicle'}"
      ]
     },
     "execution_count": 16,
     "metadata": {},
     "output_type": "execute_result"
    }
   ],
   "source": [
    "id2label"
   ]
  },
  {
   "cell_type": "code",
   "execution_count": 17,
   "metadata": {},
   "outputs": [],
   "source": [
    "num_labels = len(id2label)"
   ]
  },
  {
   "cell_type": "markdown",
   "metadata": {
    "id": "FmMUQVLXLj_I"
   },
   "source": [
    "**Note**: This dataset specificaly sets the 0th index as being `unlabeled`. We want to take this information into consideration while computing the loss. Specifically, we'll want to mask the pixels where the network predicted `unlabeled` and avoid computing the loss for it since it doesn't contribute to to training that much."
   ]
  },
  {
   "cell_type": "markdown",
   "metadata": {
    "id": "7iCzXnImeWle"
   },
   "source": [
    "Let's shuffle the dataset and split the dataset in a train and test set. We'll explicitly define a random seed to use when calling `ds.shuffle()` to ensure our results are the same each time we run this cell."
   ]
  },
  {
   "cell_type": "code",
   "execution_count": 18,
   "metadata": {
    "id": "MC4OBSUret9N"
   },
   "outputs": [],
   "source": [
    "dataset_dict = dataset_dict.shuffle(seed=1)\n",
    "dataset_dict = dataset_dict[\"train\"].train_test_split(test_size=0.2)\n",
    "train_ds = dataset_dict[\"train\"]\n",
    "test_ds = dataset_dict[\"test\"]"
   ]
  },
  {
   "cell_type": "markdown",
   "metadata": {
    "id": "4zxoikSOjs0K"
   },
   "source": [
    "### Preprocessing the data"
   ]
  },
  {
   "cell_type": "markdown",
   "metadata": {
    "id": "WTupOU88p1lK"
   },
   "source": [
    "Before we can feed these images to our model, we need to preprocess them.\n",
    "\n",
    "Preprocessing images typically comes down to (1) resizing them to a particular size (2) normalizing the color channels (R,G,B) using a mean and standard deviation. These are referred to as **image transformations**.\n",
    "\n",
    "To make sure we (1) resize to the appropriate size (2) use the appropriate image mean and standard deviation for the model architecture we are going to use, we instantiate what is called a feature extractor with the `AutoFeatureExtractor.from_pretrained` method.\n",
    "\n",
    "This feature extractor is a minimal preprocessor that can be used to prepare images for model training and inference."
   ]
  },
  {
   "cell_type": "code",
   "execution_count": 19,
   "metadata": {
    "id": "PJJQ4s9S0Iag"
   },
   "outputs": [
    {
     "name": "stderr",
     "output_type": "stream",
     "text": [
      "c:\\Users\\jaemin\\Anaconda3\\envs\\langu\\lib\\site-packages\\transformers\\models\\segformer\\feature_extraction_segformer.py:31: FutureWarning: The class SegformerFeatureExtractor is deprecated and will be removed in version 5 of Transformers. Please use SegformerImageProcessor instead.\n",
      "  FutureWarning,\n",
      "c:\\Users\\jaemin\\Anaconda3\\envs\\langu\\lib\\site-packages\\transformers\\models\\segformer\\image_processing_segformer.py:102: FutureWarning: The `reduce_labels` parameter is deprecated and will be removed in a future version. Please use `do_reduce_labels` instead.\n",
      "  FutureWarning,\n"
     ]
    },
    {
     "data": {
      "text/plain": [
       "SegformerFeatureExtractor {\n",
       "  \"do_normalize\": true,\n",
       "  \"do_reduce_labels\": true,\n",
       "  \"do_rescale\": true,\n",
       "  \"do_resize\": true,\n",
       "  \"feature_extractor_type\": \"SegformerFeatureExtractor\",\n",
       "  \"image_mean\": [\n",
       "    0.485,\n",
       "    0.456,\n",
       "    0.406\n",
       "  ],\n",
       "  \"image_processor_type\": \"SegformerFeatureExtractor\",\n",
       "  \"image_std\": [\n",
       "    0.229,\n",
       "    0.224,\n",
       "    0.225\n",
       "  ],\n",
       "  \"resample\": 2,\n",
       "  \"rescale_factor\": 0.00392156862745098,\n",
       "  \"size\": {\n",
       "    \"height\": 512,\n",
       "    \"width\": 512\n",
       "  }\n",
       "}"
      ]
     },
     "execution_count": 19,
     "metadata": {},
     "output_type": "execute_result"
    }
   ],
   "source": [
    "from transformers import AutoFeatureExtractor\n",
    "\n",
    "feature_extractor = AutoFeatureExtractor.from_pretrained(model_checkpoint, do_reduce_labels=True)\n",
    "feature_extractor"
   ]
  },
  {
   "cell_type": "code",
   "execution_count": 20,
   "metadata": {
    "id": "F7kWNDgSzzBo"
   },
   "outputs": [],
   "source": [
    "from torchvision.transforms import ColorJitter\n",
    "from transformers import SegformerFeatureExtractor\n",
    "\n",
    "feature_extractor = SegformerFeatureExtractor()\n",
    "jitter = ColorJitter(brightness=0.25, contrast=0.25, saturation=0.25, hue=0.1)\n",
    "\n",
    "def train_transforms(example_batch):\n",
    "    images = [jitter(x) for x in example_batch['pixel_values']]\n",
    "    labels = [x for x in example_batch['label']]\n",
    "    inputs = feature_extractor(images, labels)\n",
    "    return inputs\n",
    "\n",
    "\n",
    "def val_transforms(example_batch):\n",
    "    images = [x for x in example_batch['pixel_values']]\n",
    "    labels = [x for x in example_batch['label']]\n",
    "    inputs = feature_extractor(images, labels)\n",
    "    return inputs\n",
    "\n",
    "\n",
    "# Set transforms\n",
    "train_ds.set_transform(train_transforms)\n",
    "test_ds.set_transform(val_transforms)\n",
    "\n",
    "# from torchvision.transforms import ColorJitter\n",
    "# from transformers import SegformerFeatureExtractor\n",
    "# import numpy as np\n",
    "\n",
    "# feature_extractor = SegformerFeatureExtractor()\n",
    "# jitter = ColorJitter(brightness=0.25, contrast=0.25, saturation=0.25, hue=0.1)\n",
    "\n",
    "# def train_transforms(example_batch):\n",
    "#     images = [jitter(x) for x in example_batch['pixel_values']]\n",
    "#     labels = [np.squeeze(x) for x in example_batch['label']]  # Remove the last dimension\n",
    "#     inputs = feature_extractor(images, labels, return_tensors=\"pt\")\n",
    "#     return inputs\n",
    "\n",
    "# def val_transforms(example_batch):\n",
    "#     images = [x for x in example_batch['pixel_values']]\n",
    "#     labels = [np.squeeze(x) for x in example_batch['label']]  # Remove the last dimension\n",
    "#     inputs = feature_extractor(images, labels, return_tensors=\"pt\")\n",
    "#     return inputs\n",
    "\n",
    "# # Set transforms\n",
    "# train_ds.set_transform(train_transforms)\n",
    "# test_ds.set_transform(val_transforms)"
   ]
  },
  {
   "cell_type": "code",
   "execution_count": 21,
   "metadata": {},
   "outputs": [
    {
     "data": {
      "text/plain": [
       "Dataset({\n",
       "    features: ['pixel_values', 'label'],\n",
       "    num_rows: 144\n",
       "})"
      ]
     },
     "execution_count": 21,
     "metadata": {},
     "output_type": "execute_result"
    }
   ],
   "source": [
    "train_ds"
   ]
  },
  {
   "cell_type": "markdown",
   "metadata": {
    "id": "HOXmyPQ76Qv9"
   },
   "source": [
    "### Training the model"
   ]
  },
  {
   "cell_type": "markdown",
   "metadata": {
    "id": "0a-2YT7O6ayC"
   },
   "source": [
    "Now that our data is ready, we can download the pretrained model and fine-tune it. We will use the `SegformerForSemanticSegmentation` class. Calling the `from_pretrained` method on it will download and cache the weights for us. As the label ids and the number of labels are dataset dependent, we pass `label2id`, and `id2label` alongside the `model_checkpoint` here. This will make sure a custom segmentation head is created (with a custom number of output neurons)."
   ]
  },
  {
   "cell_type": "code",
   "execution_count": 22,
   "metadata": {},
   "outputs": [
    {
     "data": {
      "text/plain": [
       "16"
      ]
     },
     "execution_count": 22,
     "metadata": {},
     "output_type": "execute_result"
    }
   ],
   "source": [
    "num_labels"
   ]
  },
  {
   "cell_type": "code",
   "execution_count": 23,
   "metadata": {},
   "outputs": [
    {
     "name": "stderr",
     "output_type": "stream",
     "text": [
      "Some weights of the model checkpoint at nvidia/mit-b0 were not used when initializing SegformerForSemanticSegmentation: ['classifier.weight', 'classifier.bias']\n",
      "- This IS expected if you are initializing SegformerForSemanticSegmentation from the checkpoint of a model trained on another task or with another architecture (e.g. initializing a BertForSequenceClassification model from a BertForPreTraining model).\n",
      "- This IS NOT expected if you are initializing SegformerForSemanticSegmentation from the checkpoint of a model that you expect to be exactly identical (initializing a BertForSequenceClassification model from a BertForSequenceClassification model).\n",
      "Some weights of SegformerForSemanticSegmentation were not initialized from the model checkpoint at nvidia/mit-b0 and are newly initialized: ['decode_head.linear_c.1.proj.bias', 'decode_head.linear_c.3.proj.weight', 'decode_head.batch_norm.running_var', 'decode_head.linear_c.1.proj.weight', 'decode_head.classifier.bias', 'decode_head.linear_c.2.proj.bias', 'decode_head.batch_norm.bias', 'decode_head.linear_c.0.proj.weight', 'decode_head.batch_norm.weight', 'decode_head.linear_c.3.proj.bias', 'decode_head.linear_fuse.weight', 'decode_head.batch_norm.running_mean', 'decode_head.batch_norm.num_batches_tracked', 'decode_head.linear_c.0.proj.bias', 'decode_head.classifier.weight', 'decode_head.linear_c.2.proj.weight']\n",
      "You should probably TRAIN this model on a down-stream task to be able to use it for predictions and inference.\n"
     ]
    }
   ],
   "source": [
    "from transformers import SegformerForSemanticSegmentation\n",
    "\n",
    "\n",
    "model = SegformerForSemanticSegmentation.from_pretrained(\n",
    "    model_checkpoint,\n",
    "    num_labels=num_labels,\n",
    "    id2label=id2label,\n",
    "    label2id=label2id,\n",
    "    ignore_mismatched_sizes=True,  # Will ensure the segmentation specific components are reinitialized.\n",
    ")\n",
    "\n"
   ]
  },
  {
   "cell_type": "code",
   "execution_count": 24,
   "metadata": {
    "id": "6K0B3oqs3PR-"
   },
   "outputs": [],
   "source": [
    "from transformers import TrainingArguments\n",
    "\n",
    "epochs = 100\n",
    "lr = 0.00006\n",
    "batch_size = 2\n",
    "\n",
    "hub_model_id = \"segformer-b0-finetuned-segments-sidewalk-2\"\n",
    "\n",
    "training_args = TrainingArguments(\n",
    "    \"segformer-b0-finetuned-segments-sidewalk-outputs\",\n",
    "    learning_rate=lr,\n",
    "\n",
    "    num_train_epochs=epochs,\n",
    "    per_device_train_batch_size=batch_size,\n",
    "    per_device_eval_batch_size=batch_size,\n",
    "    save_total_limit=3,\n",
    "    evaluation_strategy=\"steps\",\n",
    "    save_strategy=\"steps\",\n",
    "    save_steps=20,\n",
    "    eval_steps=20,\n",
    "    logging_steps=1,\n",
    "    eval_accumulation_steps=5,\n",
    "    load_best_model_at_end=True,\n",
    "    push_to_hub=True,\n",
    "    hub_model_id=hub_model_id,\n",
    "    hub_strategy=\"end\",\n",
    ")"
   ]
  },
  {
   "cell_type": "markdown",
   "metadata": {
    "id": "T3gr2e6ggAn0"
   },
   "source": [
    "Next, we'll define a function that computes the evaluation metric we want to work with. Because we're doing semantic segmentation, we'll use the [mean Intersection over Union (mIoU)](https://huggingface.co/spaces/evaluate-metric/mean_iou), which is directly accessible in the [`evaluate` library](https://huggingface.co/docs/evaluate/index). IoU represents the overlap of segmentation masks. Mean IoU is the average of the IoU of all semantic classes. Take a look at [this blogpost](https://www.jeremyjordan.me/evaluating-image-segmentation-models/) for an overview of evaluation metrics for image segmentation.\n",
    "\n",
    "Because our model outputs logits with dimensions height/4 and width/4, we have to upscale them before we can compute the mIoU."
   ]
  },
  {
   "cell_type": "code",
   "execution_count": 25,
   "metadata": {},
   "outputs": [],
   "source": [
    "import torch\n",
    "from torch import nn\n",
    "import evaluate\n",
    "\n",
    "metric = evaluate.load(\"mean_iou\")\n",
    "\n",
    "def compute_metrics(eval_pred):\n",
    "  with torch.no_grad():\n",
    "    logits, labels = eval_pred\n",
    "    logits_tensor = torch.from_numpy(logits)\n",
    "    # scale the logits to the size of the label\n",
    "    logits_tensor = nn.functional.interpolate(\n",
    "        logits_tensor,\n",
    "        size=labels.shape[-2:],\n",
    "        mode=\"bilinear\",\n",
    "        align_corners=False,\n",
    "    ).argmax(dim=1)\n",
    "\n",
    "    pred_labels = logits_tensor.detach().cpu().numpy()\n",
    "    # currently using _compute instead of compute\n",
    "    # see this issue for more info: https://github.com/huggingface/evaluate/pull/328#issuecomment-1286866576\n",
    "    metrics = metric._compute(\n",
    "            predictions=pred_labels,\n",
    "            references=labels,\n",
    "            num_labels=len(id2label),\n",
    "            ignore_index=0,\n",
    "            reduce_labels=feature_extractor.do_reduce_labels,\n",
    "        )\n",
    "\n",
    "    # add per category metrics as individual key-value pairs\n",
    "    per_category_accuracy = metrics.pop(\"per_category_accuracy\").tolist()\n",
    "    per_category_iou = metrics.pop(\"per_category_iou\").tolist()\n",
    "\n",
    "    metrics.update({f\"accuracy_{id2label[i]}\": v for i, v in enumerate(per_category_accuracy)})\n",
    "    metrics.update({f\"iou_{id2label[i]}\": v for i, v in enumerate(per_category_iou)})\n",
    "\n",
    "    return metrics\n"
   ]
  },
  {
   "cell_type": "markdown",
   "metadata": {
    "id": "aki6vBMbgHJ8"
   },
   "source": [
    "Finally, we can instantiate a `Trainer` object.\n",
    "\n"
   ]
  },
  {
   "cell_type": "code",
   "execution_count": 26,
   "metadata": {
    "id": "DPvhqbUVgIhl"
   },
   "outputs": [
    {
     "ename": "CalledProcessError",
     "evalue": "Command '['git-lfs', '--version']' returned non-zero exit status 1.",
     "output_type": "error",
     "traceback": [
      "\u001b[1;31m---------------------------------------------------------------------------\u001b[0m",
      "\u001b[1;31mCalledProcessError\u001b[0m                        Traceback (most recent call last)",
      "\u001b[1;32m~\\AppData\\Local\\Temp\\ipykernel_3620\\353162782.py\u001b[0m in \u001b[0;36m<module>\u001b[1;34m\u001b[0m\n\u001b[0;32m      8\u001b[0m     \u001b[0meval_dataset\u001b[0m\u001b[1;33m=\u001b[0m\u001b[0mtest_ds\u001b[0m\u001b[1;33m,\u001b[0m\u001b[1;33m\u001b[0m\u001b[1;33m\u001b[0m\u001b[0m\n\u001b[0;32m      9\u001b[0m     \u001b[0mdata_collator\u001b[0m\u001b[1;33m=\u001b[0m\u001b[0mdefault_data_collator\u001b[0m\u001b[1;33m,\u001b[0m\u001b[1;33m\u001b[0m\u001b[1;33m\u001b[0m\u001b[0m\n\u001b[1;32m---> 10\u001b[1;33m     \u001b[0mcompute_metrics\u001b[0m\u001b[1;33m=\u001b[0m\u001b[0mcompute_metrics\u001b[0m\u001b[1;33m\u001b[0m\u001b[1;33m\u001b[0m\u001b[0m\n\u001b[0m\u001b[0;32m     11\u001b[0m )\n",
      "\u001b[1;32mc:\\Users\\jaemin\\Anaconda3\\envs\\langu\\lib\\site-packages\\transformers\\trainer.py\u001b[0m in \u001b[0;36m__init__\u001b[1;34m(self, model, args, data_collator, train_dataset, eval_dataset, tokenizer, model_init, compute_metrics, callbacks, optimizers, preprocess_logits_for_metrics)\u001b[0m\n\u001b[0;32m    561\u001b[0m         \u001b[1;31m# Create clone of distant repo and output directory if needed\u001b[0m\u001b[1;33m\u001b[0m\u001b[1;33m\u001b[0m\u001b[1;33m\u001b[0m\u001b[0m\n\u001b[0;32m    562\u001b[0m         \u001b[1;32mif\u001b[0m \u001b[0mself\u001b[0m\u001b[1;33m.\u001b[0m\u001b[0margs\u001b[0m\u001b[1;33m.\u001b[0m\u001b[0mpush_to_hub\u001b[0m\u001b[1;33m:\u001b[0m\u001b[1;33m\u001b[0m\u001b[1;33m\u001b[0m\u001b[0m\n\u001b[1;32m--> 563\u001b[1;33m             \u001b[0mself\u001b[0m\u001b[1;33m.\u001b[0m\u001b[0minit_git_repo\u001b[0m\u001b[1;33m(\u001b[0m\u001b[0mat_init\u001b[0m\u001b[1;33m=\u001b[0m\u001b[1;32mTrue\u001b[0m\u001b[1;33m)\u001b[0m\u001b[1;33m\u001b[0m\u001b[1;33m\u001b[0m\u001b[0m\n\u001b[0m\u001b[0;32m    564\u001b[0m             \u001b[1;31m# In case of pull, we need to make sure every process has the latest.\u001b[0m\u001b[1;33m\u001b[0m\u001b[1;33m\u001b[0m\u001b[1;33m\u001b[0m\u001b[0m\n\u001b[0;32m    565\u001b[0m             \u001b[1;32mif\u001b[0m \u001b[0mis_torch_tpu_available\u001b[0m\u001b[1;33m(\u001b[0m\u001b[1;33m)\u001b[0m\u001b[1;33m:\u001b[0m\u001b[1;33m\u001b[0m\u001b[1;33m\u001b[0m\u001b[0m\n",
      "\u001b[1;32mc:\\Users\\jaemin\\Anaconda3\\envs\\langu\\lib\\site-packages\\transformers\\trainer.py\u001b[0m in \u001b[0;36minit_git_repo\u001b[1;34m(self, at_init)\u001b[0m\n\u001b[0;32m   3569\u001b[0m         \u001b[0mcreate_repo\u001b[0m\u001b[1;33m(\u001b[0m\u001b[0mrepo_name\u001b[0m\u001b[1;33m,\u001b[0m \u001b[0mtoken\u001b[0m\u001b[1;33m=\u001b[0m\u001b[0mself\u001b[0m\u001b[1;33m.\u001b[0m\u001b[0margs\u001b[0m\u001b[1;33m.\u001b[0m\u001b[0mhub_token\u001b[0m\u001b[1;33m,\u001b[0m \u001b[0mprivate\u001b[0m\u001b[1;33m=\u001b[0m\u001b[0mself\u001b[0m\u001b[1;33m.\u001b[0m\u001b[0margs\u001b[0m\u001b[1;33m.\u001b[0m\u001b[0mhub_private_repo\u001b[0m\u001b[1;33m,\u001b[0m \u001b[0mexist_ok\u001b[0m\u001b[1;33m=\u001b[0m\u001b[1;32mTrue\u001b[0m\u001b[1;33m)\u001b[0m\u001b[1;33m\u001b[0m\u001b[1;33m\u001b[0m\u001b[0m\n\u001b[0;32m   3570\u001b[0m         \u001b[1;32mtry\u001b[0m\u001b[1;33m:\u001b[0m\u001b[1;33m\u001b[0m\u001b[1;33m\u001b[0m\u001b[0m\n\u001b[1;32m-> 3571\u001b[1;33m             \u001b[0mself\u001b[0m\u001b[1;33m.\u001b[0m\u001b[0mrepo\u001b[0m \u001b[1;33m=\u001b[0m \u001b[0mRepository\u001b[0m\u001b[1;33m(\u001b[0m\u001b[0mself\u001b[0m\u001b[1;33m.\u001b[0m\u001b[0margs\u001b[0m\u001b[1;33m.\u001b[0m\u001b[0moutput_dir\u001b[0m\u001b[1;33m,\u001b[0m \u001b[0mclone_from\u001b[0m\u001b[1;33m=\u001b[0m\u001b[0mrepo_name\u001b[0m\u001b[1;33m,\u001b[0m \u001b[0mtoken\u001b[0m\u001b[1;33m=\u001b[0m\u001b[0mself\u001b[0m\u001b[1;33m.\u001b[0m\u001b[0margs\u001b[0m\u001b[1;33m.\u001b[0m\u001b[0mhub_token\u001b[0m\u001b[1;33m)\u001b[0m\u001b[1;33m\u001b[0m\u001b[1;33m\u001b[0m\u001b[0m\n\u001b[0m\u001b[0;32m   3572\u001b[0m         \u001b[1;32mexcept\u001b[0m \u001b[0mEnvironmentError\u001b[0m\u001b[1;33m:\u001b[0m\u001b[1;33m\u001b[0m\u001b[1;33m\u001b[0m\u001b[0m\n\u001b[0;32m   3573\u001b[0m             \u001b[1;32mif\u001b[0m \u001b[0mself\u001b[0m\u001b[1;33m.\u001b[0m\u001b[0margs\u001b[0m\u001b[1;33m.\u001b[0m\u001b[0moverwrite_output_dir\u001b[0m \u001b[1;32mand\u001b[0m \u001b[0mat_init\u001b[0m\u001b[1;33m:\u001b[0m\u001b[1;33m\u001b[0m\u001b[1;33m\u001b[0m\u001b[0m\n",
      "\u001b[1;32mc:\\Users\\jaemin\\Anaconda3\\envs\\langu\\lib\\site-packages\\huggingface_hub\\utils\\_validators.py\u001b[0m in \u001b[0;36m_inner_fn\u001b[1;34m(*args, **kwargs)\u001b[0m\n\u001b[0;32m    116\u001b[0m             \u001b[0mkwargs\u001b[0m \u001b[1;33m=\u001b[0m \u001b[0msmoothly_deprecate_use_auth_token\u001b[0m\u001b[1;33m(\u001b[0m\u001b[0mfn_name\u001b[0m\u001b[1;33m=\u001b[0m\u001b[0mfn\u001b[0m\u001b[1;33m.\u001b[0m\u001b[0m__name__\u001b[0m\u001b[1;33m,\u001b[0m \u001b[0mhas_token\u001b[0m\u001b[1;33m=\u001b[0m\u001b[0mhas_token\u001b[0m\u001b[1;33m,\u001b[0m \u001b[0mkwargs\u001b[0m\u001b[1;33m=\u001b[0m\u001b[0mkwargs\u001b[0m\u001b[1;33m)\u001b[0m\u001b[1;33m\u001b[0m\u001b[1;33m\u001b[0m\u001b[0m\n\u001b[0;32m    117\u001b[0m \u001b[1;33m\u001b[0m\u001b[0m\n\u001b[1;32m--> 118\u001b[1;33m         \u001b[1;32mreturn\u001b[0m \u001b[0mfn\u001b[0m\u001b[1;33m(\u001b[0m\u001b[1;33m*\u001b[0m\u001b[0margs\u001b[0m\u001b[1;33m,\u001b[0m \u001b[1;33m**\u001b[0m\u001b[0mkwargs\u001b[0m\u001b[1;33m)\u001b[0m\u001b[1;33m\u001b[0m\u001b[1;33m\u001b[0m\u001b[0m\n\u001b[0m\u001b[0;32m    119\u001b[0m \u001b[1;33m\u001b[0m\u001b[0m\n\u001b[0;32m    120\u001b[0m     \u001b[1;32mreturn\u001b[0m \u001b[0m_inner_fn\u001b[0m  \u001b[1;31m# type: ignore\u001b[0m\u001b[1;33m\u001b[0m\u001b[1;33m\u001b[0m\u001b[0m\n",
      "\u001b[1;32mc:\\Users\\jaemin\\Anaconda3\\envs\\langu\\lib\\site-packages\\huggingface_hub\\repository.py\u001b[0m in \u001b[0;36m__init__\u001b[1;34m(self, local_dir, clone_from, repo_type, token, git_user, git_email, revision, skip_lfs_files, client)\u001b[0m\n\u001b[0;32m    502\u001b[0m         \u001b[0mself\u001b[0m\u001b[1;33m.\u001b[0m\u001b[0mclient\u001b[0m \u001b[1;33m=\u001b[0m \u001b[0mclient\u001b[0m \u001b[1;32mif\u001b[0m \u001b[0mclient\u001b[0m \u001b[1;32mis\u001b[0m \u001b[1;32mnot\u001b[0m \u001b[1;32mNone\u001b[0m \u001b[1;32melse\u001b[0m \u001b[0mHfApi\u001b[0m\u001b[1;33m(\u001b[0m\u001b[1;33m)\u001b[0m\u001b[1;33m\u001b[0m\u001b[1;33m\u001b[0m\u001b[0m\n\u001b[0;32m    503\u001b[0m \u001b[1;33m\u001b[0m\u001b[0m\n\u001b[1;32m--> 504\u001b[1;33m         \u001b[0mself\u001b[0m\u001b[1;33m.\u001b[0m\u001b[0mcheck_git_versions\u001b[0m\u001b[1;33m(\u001b[0m\u001b[1;33m)\u001b[0m\u001b[1;33m\u001b[0m\u001b[1;33m\u001b[0m\u001b[0m\n\u001b[0m\u001b[0;32m    505\u001b[0m \u001b[1;33m\u001b[0m\u001b[0m\n\u001b[0;32m    506\u001b[0m         \u001b[1;32mif\u001b[0m \u001b[0misinstance\u001b[0m\u001b[1;33m(\u001b[0m\u001b[0mtoken\u001b[0m\u001b[1;33m,\u001b[0m \u001b[0mstr\u001b[0m\u001b[1;33m)\u001b[0m\u001b[1;33m:\u001b[0m\u001b[1;33m\u001b[0m\u001b[1;33m\u001b[0m\u001b[0m\n",
      "\u001b[1;32mc:\\Users\\jaemin\\Anaconda3\\envs\\langu\\lib\\site-packages\\huggingface_hub\\repository.py\u001b[0m in \u001b[0;36mcheck_git_versions\u001b[1;34m(self)\u001b[0m\n\u001b[0;32m    572\u001b[0m \u001b[1;33m\u001b[0m\u001b[0m\n\u001b[0;32m    573\u001b[0m         \u001b[1;32mtry\u001b[0m\u001b[1;33m:\u001b[0m\u001b[1;33m\u001b[0m\u001b[1;33m\u001b[0m\u001b[0m\n\u001b[1;32m--> 574\u001b[1;33m             \u001b[0mlfs_version\u001b[0m \u001b[1;33m=\u001b[0m \u001b[0mrun_subprocess\u001b[0m\u001b[1;33m(\u001b[0m\u001b[1;34m\"git-lfs --version\"\u001b[0m\u001b[1;33m,\u001b[0m \u001b[0mself\u001b[0m\u001b[1;33m.\u001b[0m\u001b[0mlocal_dir\u001b[0m\u001b[1;33m)\u001b[0m\u001b[1;33m.\u001b[0m\u001b[0mstdout\u001b[0m\u001b[1;33m.\u001b[0m\u001b[0mstrip\u001b[0m\u001b[1;33m(\u001b[0m\u001b[1;33m)\u001b[0m\u001b[1;33m\u001b[0m\u001b[1;33m\u001b[0m\u001b[0m\n\u001b[0m\u001b[0;32m    575\u001b[0m         \u001b[1;32mexcept\u001b[0m \u001b[0mFileNotFoundError\u001b[0m\u001b[1;33m:\u001b[0m\u001b[1;33m\u001b[0m\u001b[1;33m\u001b[0m\u001b[0m\n\u001b[0;32m    576\u001b[0m             raise EnvironmentError(\n",
      "\u001b[1;32mc:\\Users\\jaemin\\Anaconda3\\envs\\langu\\lib\\site-packages\\huggingface_hub\\utils\\_subprocess.py\u001b[0m in \u001b[0;36mrun_subprocess\u001b[1;34m(command, folder, check, **kwargs)\u001b[0m\n\u001b[0;32m     89\u001b[0m         \u001b[0merrors\u001b[0m\u001b[1;33m=\u001b[0m\u001b[1;34m\"replace\"\u001b[0m\u001b[1;33m,\u001b[0m  \u001b[1;31m# if not utf-8, replace char by �\u001b[0m\u001b[1;33m\u001b[0m\u001b[1;33m\u001b[0m\u001b[0m\n\u001b[0;32m     90\u001b[0m         \u001b[0mcwd\u001b[0m\u001b[1;33m=\u001b[0m\u001b[0mfolder\u001b[0m \u001b[1;32mor\u001b[0m \u001b[0mos\u001b[0m\u001b[1;33m.\u001b[0m\u001b[0mgetcwd\u001b[0m\u001b[1;33m(\u001b[0m\u001b[1;33m)\u001b[0m\u001b[1;33m,\u001b[0m\u001b[1;33m\u001b[0m\u001b[1;33m\u001b[0m\u001b[0m\n\u001b[1;32m---> 91\u001b[1;33m         \u001b[1;33m**\u001b[0m\u001b[0mkwargs\u001b[0m\u001b[1;33m,\u001b[0m\u001b[1;33m\u001b[0m\u001b[1;33m\u001b[0m\u001b[0m\n\u001b[0m\u001b[0;32m     92\u001b[0m     )\n\u001b[0;32m     93\u001b[0m \u001b[1;33m\u001b[0m\u001b[0m\n",
      "\u001b[1;32mc:\\Users\\jaemin\\Anaconda3\\envs\\langu\\lib\\subprocess.py\u001b[0m in \u001b[0;36mrun\u001b[1;34m(input, capture_output, timeout, check, *popenargs, **kwargs)\u001b[0m\n\u001b[0;32m    510\u001b[0m         \u001b[1;32mif\u001b[0m \u001b[0mcheck\u001b[0m \u001b[1;32mand\u001b[0m \u001b[0mretcode\u001b[0m\u001b[1;33m:\u001b[0m\u001b[1;33m\u001b[0m\u001b[1;33m\u001b[0m\u001b[0m\n\u001b[0;32m    511\u001b[0m             raise CalledProcessError(retcode, process.args,\n\u001b[1;32m--> 512\u001b[1;33m                                      output=stdout, stderr=stderr)\n\u001b[0m\u001b[0;32m    513\u001b[0m     \u001b[1;32mreturn\u001b[0m \u001b[0mCompletedProcess\u001b[0m\u001b[1;33m(\u001b[0m\u001b[0mprocess\u001b[0m\u001b[1;33m.\u001b[0m\u001b[0margs\u001b[0m\u001b[1;33m,\u001b[0m \u001b[0mretcode\u001b[0m\u001b[1;33m,\u001b[0m \u001b[0mstdout\u001b[0m\u001b[1;33m,\u001b[0m \u001b[0mstderr\u001b[0m\u001b[1;33m)\u001b[0m\u001b[1;33m\u001b[0m\u001b[1;33m\u001b[0m\u001b[0m\n\u001b[0;32m    514\u001b[0m \u001b[1;33m\u001b[0m\u001b[0m\n",
      "\u001b[1;31mCalledProcessError\u001b[0m: Command '['git-lfs', '--version']' returned non-zero exit status 1."
     ]
    }
   ],
   "source": [
    "from transformers import Trainer\n",
    "from transformers import default_data_collator\n",
    "trainer = Trainer(\n",
    "    model=model,\n",
    "    args=training_args,\n",
    "    tokenizer=feature_extractor,\n",
    "    train_dataset=train_ds,\n",
    "    eval_dataset=test_ds,\n",
    "    data_collator=default_data_collator,\n",
    "    compute_metrics=compute_metrics\n",
    ")\n"
   ]
  },
  {
   "cell_type": "markdown",
   "metadata": {
    "id": "y7ebFys1gO25"
   },
   "source": [
    "Notice that we're passing `feature_extractor` to the `Trainer`. This will ensure the feature extractor is also uploaded to the Hub along with the model checkpoints.\n",
    "\n",
    "Now that our trainer is set up, training is as simple as calling the train function. We don't need to worry about managing our GPU(s), the trainer will take care of that."
   ]
  },
  {
   "cell_type": "code",
   "execution_count": null,
   "metadata": {},
   "outputs": [],
   "source": [
    "!pip install hf-lfs"
   ]
  },
  {
   "cell_type": "code",
   "execution_count": null,
   "metadata": {},
   "outputs": [],
   "source": [
    "!git config --global user.email \"<my_github_jmjung1997@naver.com>\"\n",
    "!git config --global user.name \"<my_github_jmjung1997>\""
   ]
  },
  {
   "cell_type": "code",
   "execution_count": null,
   "metadata": {
    "id": "MVTWgGeQgRpB"
   },
   "outputs": [],
   "source": [
    "trainer.train()"
   ]
  },
  {
   "cell_type": "markdown",
   "metadata": {
    "id": "I96TvX-KgT56"
   },
   "source": [
    "When we're done with training, we can push our fine-tuned model to the Hub.\n",
    "\n",
    "This will also automatically create a model card with our results. We'll supply some extra information in kwargs to make the model card more complete."
   ]
  },
  {
   "cell_type": "code",
   "execution_count": null,
   "metadata": {},
   "outputs": [],
   "source": [
    "x = torch.rand((4, 6, 320, 480))\n",
    "new_x = x.permute((0,2,3,1)).squeeze()"
   ]
  },
  {
   "cell_type": "code",
   "execution_count": null,
   "metadata": {},
   "outputs": [],
   "source": [
    "x.shape[0:-1]"
   ]
  },
  {
   "cell_type": "code",
   "execution_count": null,
   "metadata": {},
   "outputs": [],
   "source": [
    "new_x.shape"
   ]
  },
  {
   "cell_type": "code",
   "execution_count": null,
   "metadata": {},
   "outputs": [],
   "source": [
    "new_x2.shape"
   ]
  },
  {
   "cell_type": "code",
   "execution_count": null,
   "metadata": {
    "id": "m8YuKExogV4P"
   },
   "outputs": [],
   "source": [
    "pretrained_model_name='jm'\n",
    "hf_dataset_identifier = \"segments/sidewalk-semantic\"\n",
    "# kwargs = {\n",
    "#     \"tags\": [\"vision\", \"image-segmentation\"],\n",
    "#     \"finetuned_from\": pretrained_model_name,\n",
    "#     \"dataset\": hf_dataset_identifier,\n",
    "# }\n",
    "\n",
    "kwargs = {\n",
    "    \"tags\": [\"vision\", \"image-segmentation\"]\n",
    "    \n",
    "}\n",
    "\n",
    "trainer.push_to_hub(**kwargs)"
   ]
  },
  {
   "cell_type": "markdown",
   "metadata": {
    "id": "dFzJ8Xb5g1Vi"
   },
   "source": [
    "## Inference\n",
    "\n",
    "Now comes the exciting part -- using our fine-tuned model! In this section, we'll show how you can load your model from the hub and use it for inference.\n",
    "\n",
    "However, you can also try out your model directly on the Hugging Face Hub, thanks to the cool widgets powered by the [hosted inference API](https://api-inference.huggingface.co/docs/python/html/index.html). If you pushed your model to the Hub in the previous step, you should see an inference widget on your model page. You can add default examples to the widget by defining example image URLs in your model card. See [this model card](https://huggingface.co/segments-tobias/segformer-b0-finetuned-segments-sidewalk/blob/main/README.md) as an example.\n",
    "\n",
    "<figure class=\"image table text-center m-0 w-full\">\n",
    "    <video\n",
    "        alt=\"The interactive widget of the model\"\n",
    "        style=\"max-width: 70%; margin: auto;\"\n",
    "        autoplay loop autobuffer muted playsinline\n",
    "    >\n",
    "      <source src=\"assets/56_fine_tune_segformer/widget.mp4\" poster=\"assets/56_fine_tune_segformer/widget-poster.png\" type=\"video/mp4\">\n",
    "  </video>\n",
    "</figure>"
   ]
  },
  {
   "cell_type": "markdown",
   "metadata": {
    "id": "QXY3erc6g8LP"
   },
   "source": [
    "### Use the model from the Hub\n",
    "\n",
    "We'll first load the model from the Hub using `SegformerForSemanticSegmentation.from_pretrained()`."
   ]
  },
  {
   "cell_type": "code",
   "execution_count": null,
   "metadata": {
    "id": "gfbdz9Hpg9mI"
   },
   "outputs": [],
   "source": [
    "from transformers import SegformerFeatureExtractor, SegformerForSemanticSegmentation\n",
    "\n",
    "feature_extractor = SegformerFeatureExtractor.from_pretrained(model_checkpoint)\n",
    "hf_username = \"jaemin12\"\n",
    "model = SegformerForSemanticSegmentation.from_pretrained(f\"{hf_username}/{hub_model_id}\")"
   ]
  },
  {
   "cell_type": "markdown",
   "metadata": {
    "id": "SQJkEqGxQwz6"
   },
   "source": [
    "Next, we'll load an image from our test dataset and its associated ground truth segmentation label."
   ]
  },
  {
   "cell_type": "code",
   "execution_count": null,
   "metadata": {
    "id": "R57X_iNkqv6H"
   },
   "outputs": [],
   "source": [
    "image = test_ds[0]['pixel_values']\n",
    "gt_seg = test_ds[0]['labels']\n",
    "image"
   ]
  },
  {
   "cell_type": "markdown",
   "metadata": {
    "id": "7m7IfMv6R3_5"
   },
   "source": [
    "To segment this test image, we first need to prepare the image using the feature extractor. Then we'll forward it through the model.\n",
    "\n",
    "We also need to remember to upscale the output logits to the original image size. In order to get the actual category predictions, we just have to apply an `argmax` on the logits."
   ]
  },
  {
   "cell_type": "code",
   "execution_count": null,
   "metadata": {},
   "outputs": [],
   "source": [
    "import numpy as np\n",
    "from PIL import Image\n",
    "image = ((image + 1.0) * 255/2).astype(np.uint8)\n",
    "image = Image.fromarray((image.transpose(1, 2, 0) * 255).astype(np.uint8))"
   ]
  },
  {
   "cell_type": "code",
   "execution_count": null,
   "metadata": {
    "id": "8nNSSqEUBS2v"
   },
   "outputs": [],
   "source": [
    "from torch import nn\n",
    "\n",
    "inputs = feature_extractor(images=image, return_tensors=\"pt\")\n",
    "outputs = model(**inputs)\n",
    "logits = outputs.logits  # shape (batch_size, num_labels, height/4, width/4)\n",
    "\n",
    "# First, rescale logits to original image size\n",
    "upsampled_logits = nn.functional.interpolate(\n",
    "    logits,\n",
    "    size=image.size[::-1], # (height, width)\n",
    "    mode='bilinear',\n",
    "    align_corners=False\n",
    ")\n",
    "\n",
    "# Second, apply argmax on the class dimension\n",
    "pred_seg = upsampled_logits.argmax(dim=1)[0]\n",
    "#image = np.array(image).transpose(2, 0, 1)"
   ]
  },
  {
   "cell_type": "markdown",
   "metadata": {
    "id": "oyHddde_SOgv"
   },
   "source": [
    "Now it's time to display the result. The next cell defines the colors for each category, so that they match the \"category coloring\" on Segments.ai."
   ]
  },
  {
   "cell_type": "code",
   "execution_count": null,
   "metadata": {
    "cellView": "form",
    "id": "Ky_8gHCRCJHj"
   },
   "outputs": [],
   "source": [
    "def sidewalk_palette():\n",
    "    \"\"\"Sidewalk palette that maps each class to RGB values.\"\"\"\n",
    "    return [\n",
    "        [135, 206, 235],  # Light Blue\n",
    "        [128, 128, 128],  # Gray (static)\n",
    "        [169, 169, 169],  # Dark Gray (road)\n",
    "        [139, 69, 19],    # Brown (pole/structural object)\n",
    "        [34, 139, 34],    # Green (vegetation)\n",
    "        [255, 165, 0],    # Orange (building)\n",
    "        [255, 255, 0],    # Yellow (sidewalk)\n",
    "        [255, 0, 0],      # Red (road boundaries)\n",
    "        [0, 0, 255],      # Blue (pedestrian)\n",
    "        [128, 0, 128],    # Purple (vehicle)\n",
    "        [255, 69, 0],     # Red-Orange (traffic light)\n",
    "        [255, 255, 255],  # White (crosswalks)\n",
    "        [255, 20, 147],   # Pink (lane)\n",
    "        [0, 255, 255],    # Cyan (traffic sign)\n",
    "        [0, 0, 0],        # Black (dynamic)\n",
    "        [160, 82, 45],    # Sienna (road roughness)\n",
    "        [255, 192, 203],  # Light Pink (road color guide)\n",
    "        [218, 112, 214],  # Orchid (road marking)\n",
    "        [70, 130, 180],   # Steel Blue (parking)\n",
    "        [46, 139, 87],    # Sea Green (tunnel)\n",
    "        [205, 133, 63],   # Peru (bridge)\n",
    "        [106, 90, 205],   # Slate Blue (bicycle)\n",
    "        [255, 140, 0],    # Dark Orange (motorcycle)\n",
    "        [72, 61, 139]     # Dark Slate Blue (personal mobility)\n",
    "    ]"
   ]
  },
  {
   "cell_type": "markdown",
   "metadata": {
    "id": "f4BzL0ISSePY"
   },
   "source": [
    "The next function overlays the output segmentation map on the original image."
   ]
  },
  {
   "cell_type": "code",
   "execution_count": null,
   "metadata": {
    "id": "G3HqZXyQB7gJ"
   },
   "outputs": [],
   "source": [
    "import numpy as np\n",
    "\n",
    "def get_seg_overlay(image, seg):\n",
    "  color_seg = np.zeros((seg.shape[0], seg.shape[1], 3), dtype=np.uint8) # height, width, 3\n",
    "  palette = np.array(sidewalk_palette())\n",
    "  for label, color in enumerate(palette):\n",
    "      color_seg[seg == label, :] = color\n",
    "\n",
    "  # Show image + mask\n",
    "  img = np.array(image) * 0.5 + color_seg * 0.5\n",
    "  img = img.astype(np.uint8)\n",
    "\n",
    "  return img"
   ]
  },
  {
   "cell_type": "markdown",
   "metadata": {
    "id": "-yEXFytLSkht"
   },
   "source": [
    "We'll display the result next to the ground-truth mask."
   ]
  },
  {
   "cell_type": "code",
   "execution_count": null,
   "metadata": {
    "id": "vnSn2A2U0RMw"
   },
   "outputs": [],
   "source": [
    "import matplotlib.pyplot as plt\n",
    "\n",
    "pred_img = get_seg_overlay(image, pred_seg)\n",
    "gt_img = get_seg_overlay(image, np.array(gt_seg))\n",
    "\n",
    "f, axs = plt.subplots(1, 2)\n",
    "f.set_figheight(30)\n",
    "f.set_figwidth(50)\n",
    "\n",
    "axs[0].set_title(\"Prediction\", {'fontsize': 40})\n",
    "axs[0].imshow(pred_img)\n",
    "axs[1].set_title(\"Ground truth\", {'fontsize': 40})\n",
    "axs[1].imshow(gt_img)"
   ]
  },
  {
   "cell_type": "markdown",
   "metadata": {
    "id": "r3Chx4bXaCYa"
   },
   "source": [
    "What do you think? Would you send our pizza delivery robot on the road with this segmentation information?\n",
    "\n",
    "The result might not be perfect yet, but we can always expand our dataset to make the model more robust. We can now also go train a larger SegFormer model, and see how it stacks up. If you want to explore further beyond this notebook, here are some things you can try next:\n",
    "\n",
    "* Train the model for longer.\n",
    "* Try out the different segmentation-specific training augmentations from libraries like [`albumentations`](https://albumentations.ai/docs/getting_started/mask_augmentation/).\n",
    "* Try out a larger variant of the SegFormer model family or try an entirely new model family like MobileViT."
   ]
  },
  {
   "cell_type": "markdown",
   "metadata": {},
   "source": []
  }
 ],
 "metadata": {
  "accelerator": "GPU",
  "colab": {
   "gpuClass": "premium",
   "machine_shape": "hm",
   "provenance": []
  },
  "gpuClass": "premium",
  "kernelspec": {
   "display_name": "agri",
   "language": "python",
   "name": "python3"
  },
  "language_info": {
   "codemirror_mode": {
    "name": "ipython",
    "version": 3
   },
   "file_extension": ".py",
   "mimetype": "text/x-python",
   "name": "python",
   "nbconvert_exporter": "python",
   "pygments_lexer": "ipython3",
   "version": "3.7.16"
  }
 },
 "nbformat": 4,
 "nbformat_minor": 1
}
