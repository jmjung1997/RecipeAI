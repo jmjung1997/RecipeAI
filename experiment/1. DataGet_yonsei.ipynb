{
 "cells": [
  {
   "cell_type": "markdown",
   "metadata": {},
   "source": [
    "## 연세대 세브란스에서 건강정보에 대한 식단 정보 가져오기"
   ]
  },
  {
   "cell_type": "code",
   "execution_count": 1,
   "metadata": {},
   "outputs": [
    {
     "name": "stderr",
     "output_type": "stream",
     "text": [
      "USER_AGENT environment variable not set, consider setting it to identify your requests.\n"
     ]
    }
   ],
   "source": [
    "import bs4\n",
    "from langchain_community.document_loaders import WebBaseLoader\n",
    "import re\n",
    "\n",
    "url1 = 'https://sev.severance.healthcare/health/lifecare/nutrition/diseasediet.do?&mode=view&articleNo=108731&articleLimit=0'\n",
    "url2 = 'https://sev.severance.healthcare/health/lifecare/nutrition/diseasediet.do?&mode=view&articleNo=70483&articleLimit=0'\n",
    "\n",
    "def clean_text(element):\n",
    "   text = element.get_text().strip()\n",
    "   text = re.sub(r'\\s+', ' ', text)\n",
    "   return text\n",
    "\n",
    "class CustomWebLoader(WebBaseLoader):\n",
    "   def _clean_data(self, soup: bs4.BeautifulSoup) -> str:\n",
    "       # 자바스크립트 태그 제거\n",
    "       [s.decompose() for s in soup.find_all('script')]\n",
    "       \n",
    "       subject = soup.find('h3', class_='subject')\n",
    "       title = clean_text(subject) if subject else \"\"\n",
    "       \n",
    "       fr_view = soup.find('div', class_='fr-view')\n",
    "       if fr_view:\n",
    "           paragraphs = [p for p in fr_view.find_all('p', recursive=False) \n",
    "                        if clean_text(p) and not p.find('img')]\n",
    "           content = ' '.join(clean_text(p) for p in paragraphs)\n",
    "           return f\"제목: {title}\\n\\n본문:\\n{content}\"\n",
    "       return \"\"\n",
    "\n",
    "loader = CustomWebLoader(web_path=(url1, url2))\n",
    "docs = loader.load()\n",
    "\n",
    "with open('C:\\jupyter\\RecipeAI\\stroke_diet.txt', 'w', encoding='utf-8') as f:\n",
    "   f.write(str(docs[0]))"
   ]
  },
  {
   "cell_type": "code",
   "execution_count": null,
   "metadata": {},
   "outputs": [],
   "source": []
  }
 ],
 "metadata": {
  "kernelspec": {
   "display_name": "langchain",
   "language": "python",
   "name": "python3"
  },
  "language_info": {
   "codemirror_mode": {
    "name": "ipython",
    "version": 3
   },
   "file_extension": ".py",
   "mimetype": "text/x-python",
   "name": "python",
   "nbconvert_exporter": "python",
   "pygments_lexer": "ipython3",
   "version": "3.11.11"
  }
 },
 "nbformat": 4,
 "nbformat_minor": 2
}
